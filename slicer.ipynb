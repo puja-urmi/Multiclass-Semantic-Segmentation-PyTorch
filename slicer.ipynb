{
 "cells": [
  {
   "cell_type": "code",
   "execution_count": 2,
   "metadata": {},
   "outputs": [],
   "source": [
    "import os\n",
    "import nibabel as nib\n",
    "import numpy as np\n",
    "import imageio\n",
    "\n",
    "# Define the main paths\n",
    "dataset_folder = r\"C:\\Users\\pujau\\OneDrive\\Documents\\3d\\kits19\\data\"\n",
    "output_folder = r\"C:\\Users\\pujau\\OneDrive\\Documents\\thesis\\kits19\\data\\all_data\"\n",
    "\n",
    "# Create output directory if it doesn't exist\n",
    "os.makedirs(output_folder, exist_ok=True)\n",
    "\n",
    "# Function to normalize and convert the slices to 8-bit integers\n",
    "def normalize_and_convert(slice_2d):\n",
    "    # Normalize the slice to range [0, 255]\n",
    "    slice_2d = 255 * (slice_2d - np.min(slice_2d)) / (np.max(slice_2d) - np.min(slice_2d))\n",
    "    return slice_2d.astype(np.uint8)\n",
    "\n",
    "# Function to save 2D slices\n",
    "def save_slices(data, case_id, slice_type):\n",
    "    case_output_folder = os.path.join(output_folder, case_id, slice_type)\n",
    "    os.makedirs(case_output_folder, exist_ok=True)\n",
    "    \n",
    "    for i in range(data.shape[0]):\n",
    "        slice_2d = data[i, :, :]\n",
    "        slice_2d = normalize_and_convert(slice_2d)\n",
    "        output_path = os.path.join(case_output_folder, f\"{slice_type}_slice_{i:03d}.png\")\n",
    "        imageio.imwrite(output_path, slice_2d)\n",
    "\n",
    "# Function to save 3-channel segmentation slices\n",
    "def save_3_channel_slices(segmentation_data, case_id):\n",
    "    case_output_folder = os.path.join(output_folder, case_id, \"segmentation\")\n",
    "    os.makedirs(case_output_folder, exist_ok=True)\n",
    "    \n",
    "    num_classes = 3  # Define the number of classes (background, kidney, tumor)\n",
    "    for i in range(segmentation_data.shape[0]):\n",
    "        slice_2d = segmentation_data[i, :, :]\n",
    "        \n",
    "        # Create an empty 3-channel image\n",
    "        multi_channel_slice = np.zeros((slice_2d.shape[0], slice_2d.shape[1], num_classes), dtype=np.uint8)\n",
    "        \n",
    "        # Assign each class to a specific channel\n",
    "        for c in range(num_classes):\n",
    "            class_slice = (slice_2d == c).astype(np.uint8)  \n",
    "            multi_channel_slice[:, :, c] = class_slice\n",
    "        \n",
    "        output_path = os.path.join(case_output_folder, f\"segmentation_slice_{i:03d}.png\")\n",
    "        imageio.imwrite(output_path, multi_channel_slice)\n",
    "\n",
    "# Main loop over each case\n",
    "for case_id in os.listdir(dataset_folder):\n",
    "    case_folder = os.path.join(dataset_folder, case_id)\n",
    "    \n",
    "    if os.path.isdir(case_folder):\n",
    "        imaging_path = os.path.join(case_folder, \"imaging.nii.gz\")\n",
    "        segmentation_path = os.path.join(case_folder, \"segmentation.nii.gz\")\n",
    "        \n",
    "        if os.path.exists(imaging_path) and os.path.exists(segmentation_path):\n",
    "            # Load the NIfTI files\n",
    "            imaging = nib.load(imaging_path)\n",
    "            segmentation = nib.load(segmentation_path)\n",
    "            \n",
    "            # Get the data arrays\n",
    "            imaging_data = imaging.get_fdata()\n",
    "            segmentation_data = segmentation.get_fdata()\n",
    "            \n",
    "            # Save 2D slices of imaging data\n",
    "            save_slices(imaging_data, case_id, \"imaging\")\n",
    "            \n",
    "            # Save 3-channel segmentation slices\n",
    "            save_3_channel_slices(segmentation_data, case_id)\n",
    "\n"
   ]
  },
  {
   "cell_type": "code",
   "execution_count": 3,
   "metadata": {},
   "outputs": [
    {
     "name": "stdout",
     "output_type": "stream",
     "text": [
      "Image shape: (512, 512, 3)\n"
     ]
    }
   ],
   "source": [
    "from PIL import Image\n",
    "import numpy as np\n",
    "\n",
    "# Path to your segmentation image\n",
    "image_path = r\"C:\\Users\\pujau\\OneDrive\\Documents\\3d\\kits19\\all_data\\case_00000\\segmentation\\segmentation_slice_000.png\"\n",
    "\n",
    "# Load the image\n",
    "image = Image.open(image_path)\n",
    "\n",
    "# Convert image to NumPy array\n",
    "image_array = np.array(image)\n",
    "\n",
    "# Print the shape of the image\n",
    "print(\"Image shape:\", image_array.shape)\n"
   ]
  }
 ],
 "metadata": {
  "kernelspec": {
   "display_name": "torch",
   "language": "python",
   "name": "python3"
  },
  "language_info": {
   "codemirror_mode": {
    "name": "ipython",
    "version": 3
   },
   "file_extension": ".py",
   "mimetype": "text/x-python",
   "name": "python",
   "nbconvert_exporter": "python",
   "pygments_lexer": "ipython3",
   "version": "3.12.4"
  }
 },
 "nbformat": 4,
 "nbformat_minor": 2
}
